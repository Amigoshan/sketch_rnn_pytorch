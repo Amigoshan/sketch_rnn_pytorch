{
 "cells": [
  {
   "cell_type": "code",
   "execution_count": 1,
   "metadata": {},
   "outputs": [],
   "source": [
    "from os.path import join\n",
    "from os import listdir\n",
    "import numpy as np\n",
    "datapath = '/home/wenshan/datasets/quickdraw'\n",
    "\n",
    "filecat = 'sketchrnn_cat.npz'\n",
    "\n",
    "with np.load(join(datapath, filecat)) as cat_data:\n",
    "    train_cat, val_cat, test_cat = cat_data['train'], cat_data['valid'], cat_data['test']\n"
   ]
  },
  {
   "cell_type": "code",
   "execution_count": 34,
   "metadata": {},
   "outputs": [
    {
     "name": "stdout",
     "output_type": "stream",
     "text": [
      "4 17 2 [[-8.0, -41.0], [-30.0, -92.0], [-13.0, -78.0], [36.0, -21.0], [113.0, -38.0], [147.0, -38.0], [163.0, -34.0], [178.0, -62.0], [202.0, -89.0], [227.0, -111.0], [253.0, -128.0], [236.0, -87.0], [227.0, -46.0], [234.0, 11.0], [231.0, 95.0], [217.0, 121.0], [186.0, 143.0]]\n"
     ]
    }
   ],
   "source": [
    "#train_cat.shape, test_cat.shape, val_cat.shape\n",
    "#type(train_cat[0]),train_cat[0].shape, train_cat[0]\n",
    "from utils import strokes_to_lines\n",
    "cat0 = strokes_to_lines(train_cat[1])\n",
    "print len(cat0), len(cat0[0]), len(cat0[0][0]),cat0[0]"
   ]
  },
  {
   "cell_type": "code",
   "execution_count": 40,
   "metadata": {},
   "outputs": [],
   "source": [
    "import matplotlib.pyplot as plt\n",
    "from utils import strokes_to_lines\n",
    "\n",
    "def drawFig(stroke):\n",
    "    lines = strokes_to_lines(stroke)\n",
    "    for line in lines:\n",
    "        line_np = np.array(line)\n",
    "    #     print cat0_np.shape, cat0_np, cat0_np[:,0], cat0_np[:,1]\n",
    "        plt.plot(line_np[:,0],0-line_np[:,1])\n",
    "    plt.show()"
   ]
  },
  {
   "cell_type": "code",
   "execution_count": 46,
   "metadata": {},
   "outputs": [
    {
     "name": "stdout",
     "output_type": "stream",
     "text": [
      "total images <= max_seq_len is 70000\n"
     ]
    }
   ],
   "source": [
    "from utils import DataLoader\n",
    "dataloader = DataLoader(train_cat)\n",
    "dataloader.normalize()\n",
    "#print dataloader.random_sample()"
   ]
  },
  {
   "cell_type": "code",
   "execution_count": 114,
   "metadata": {},
   "outputs": [
    {
     "data": {
      "image/png": "[encoded data removed]",
      "text/plain": [
       "<matplotlib.figure.Figure at 0x7f6581a93f90>"
      ]
     },
     "metadata": {},
     "output_type": "display_data"
    },
    {
     "name": "stdout",
     "output_type": "stream",
     "text": [
      "[[-0.3706263   0.09265658  0.        ]\n",
      " [-0.44011873  0.41695458  0.        ]\n",
      " [-0.162149    0.25480556  0.        ]\n",
      " [-0.32429799  0.83390915  0.        ]\n",
      " [-0.06949243  0.76441675  0.        ]\n",
      " [ 0.09265658  0.162149    0.        ]\n",
      " [ 0.34746215  0.23164143  0.        ]\n",
      " [ 0.76441675  0.04632829  0.        ]\n",
      " [ 0.25480556 -0.04632829  0.        ]\n",
      " [ 0.46328285 -0.23164143  0.        ]\n",
      " [ 0.41695458 -0.44011873  0.        ]\n",
      " [ 0.06949243 -0.67176014  0.        ]\n",
      " [-0.18531315 -0.44011873  0.        ]\n",
      " [-0.18531315 -0.30113387  0.        ]\n",
      " [-0.57910359 -0.46328285  0.        ]\n",
      " [-0.162149   -0.04632829  1.        ]\n",
      " [-1.55199754  1.69098246  0.        ]\n",
      " [-0.71808845 -0.7412526   0.        ]\n",
      " [-0.39379042 -0.57910359  0.        ]\n",
      " [-0.13898486 -0.39379042  0.        ]\n",
      " [ 1.87629557  0.57910359  1.        ]\n",
      " [ 0.25480556 -0.32429799  0.        ]\n",
      " [ 0.57910359 -0.60226774  0.        ]\n",
      " [ 0.3706263  -0.99605817  0.        ]\n",
      " [ 0.27796972 -0.162149    0.        ]\n",
      " [ 0.27796972 -0.04632829  0.        ]\n",
      " [ 0.13898486  0.09265658  0.        ]\n",
      " [ 0.09265658  0.32429799  0.        ]\n",
      " [-0.06949243  1.4361769   1.        ]\n",
      " [-1.4361769   0.67176014  0.        ]\n",
      " [ 0.11582071 -0.06949243  0.        ]\n",
      " [-0.09265658  0.11582071  0.        ]\n",
      " [-0.06949243 -0.02316414  1.        ]\n",
      " [ 0.69492429 -0.30113387  0.        ]\n",
      " [-0.13898486  0.09265658  0.        ]\n",
      " [ 0.11582071 -0.09265658  1.        ]\n",
      " [-0.11582071  0.90340161  0.        ]\n",
      " [-0.06949243  0.04632829  1.        ]\n",
      " [ 0.02316414 -0.13898486  0.        ]\n",
      " [-0.13898486 -0.06949243  0.        ]\n",
      " [-0.39379042  0.          0.        ]\n",
      " [-0.32429799  0.09265658  1.        ]\n",
      " [ 0.90340161 -0.04632829  0.        ]\n",
      " [ 0.27796972 -0.41695458  0.        ]\n",
      " [ 0.18531315 -0.04632829  1.        ]\n",
      " [-0.23164143  0.53277528  0.        ]\n",
      " [ 0.3706263   0.13898486  1.        ]]\n"
     ]
    }
   ],
   "source": [
    "sample = dataloader.random_sample()\n",
    "drawFig(sample)\n",
    "print sample"
   ]
  },
  {
   "cell_type": "code",
   "execution_count": 120,
   "metadata": {},
   "outputs": [
    {
     "name": "stdout",
     "output_type": "stream",
     "text": [
      "[[ 0.          0.          0.        ]\n",
      " [-0.06949243  0.32429799  0.        ]\n",
      " [ 0.27796972 -0.16214901  0.        ]\n",
      " [-0.162149    0.57910359  0.        ]\n",
      " [ 0.25480556 -0.0694924   0.        ]\n",
      " [ 0.16214901 -0.60226774  0.        ]\n",
      " [ 0.25480556  0.06949243  0.        ]\n",
      " [ 0.41695461 -0.18531314  0.        ]\n",
      " [-0.50961119 -0.09265658  0.        ]\n",
      " [ 0.20847729 -0.18531314  0.        ]\n",
      " [-0.04632828 -0.2084773   0.        ]\n",
      " [-0.34746215 -0.23164141  0.        ]\n",
      " [-0.25480556  0.23164141  0.        ]\n",
      " [ 0.          0.13898486  0.        ]\n",
      " [-0.39379042 -0.16214898  0.        ]\n",
      " [ 0.41695458  0.41695458  1.        ]\n",
      " [-1.38984859  1.73731077  0.        ]\n",
      " [ 0.83390909 -2.432235    0.        ]\n",
      " [ 0.32429802  0.16214901  0.        ]\n",
      " [ 0.25480556  0.18531317  0.        ]\n",
      " [ 2.01528049  0.97289401  1.        ]\n",
      " [-1.62149    -0.90340161  0.        ]\n",
      " [ 0.32429802 -0.27796975  0.        ]\n",
      " [-0.20847729 -0.39379042  0.        ]\n",
      " [-0.09265658  0.83390915  0.        ]\n",
      " [ 0.          0.11582071  0.        ]\n",
      " [-0.13898486  0.13898486  0.        ]\n",
      " [-0.04632828  0.23164141  0.        ]\n",
      " [-0.16214901  1.11187887  1.        ]\n",
      " [-1.36668444 -0.76441675  0.        ]\n",
      " [ 1.55199766 -0.74125254  0.        ]\n",
      " [-0.20847729  0.18531314  0.        ]\n",
      " [ 0.02316415 -0.13898486  1.        ]\n",
      " [ 0.76441669 -0.27796972  0.        ]\n",
      " [-0.83390915  0.39379045  0.        ]\n",
      " [ 0.25480556 -0.18531315  1.        ]\n",
      " [-0.23164143  0.99605817  0.        ]\n",
      " [ 0.04632828 -0.85707331  1.        ]\n",
      " [ 0.09265658 -0.18531315  0.        ]\n",
      " [-0.162149    0.06949243  0.        ]\n",
      " [-0.25480556  0.06949243  0.        ]\n",
      " [ 0.06949243  0.09265658  1.        ]\n",
      " [ 1.22769964 -0.13898486  0.        ]\n",
      " [-0.6254319  -0.3706263   0.        ]\n",
      " [-0.09265657  0.3706263   1.        ]\n",
      " [-0.41695458  0.57910359  0.        ]\n",
      " [ 0.60226774 -0.39379042  1.        ]]\n"
     ]
    }
   ],
   "source": [
    "sampleacc = np.copy(sample)\n",
    "sampleacc [0,:] = [0,0,0]\n",
    "sampleacc[1:,0:2] = sample[1:,0:2] - sample[0:-1,0:2]\n",
    "# sampleacc[:,2] = sample[:,2]\n",
    "print sampleacc"
   ]
  },
  {
   "cell_type": "code",
   "execution_count": 1,
   "metadata": {},
   "outputs": [],
   "source": [
    "import torch \n",
    "import torch.nn as nn\n",
    "\n",
    "rnn = nn.LSTM(10,20,2) # input, hidden, layers\n",
    "input = torch.randn(5, 3, 10) # seq, batch, input\n",
    "h0 = torch.randn(2, 3, 20) # layers, batch, hidden\n",
    "c0 = torch.randn(2, 3, 20) \n",
    "output, hn = rnn(input, (h0, c0))"
   ]
  },
  {
   "cell_type": "code",
   "execution_count": 2,
   "metadata": {},
   "outputs": [
    {
     "name": "stdout",
     "output_type": "stream",
     "text": [
      "torch.Size([5, 3, 20])\n",
      "<type 'tuple'> torch.Size([2, 3, 20]) torch.Size([2, 3, 20])\n"
     ]
    },
    {
     "data": {
      "text/plain": [
       "torch.Size([2, 4, 20])"
      ]
     },
     "execution_count": 2,
     "metadata": {},
     "output_type": "execute_result"
    }
   ],
   "source": [
    "print output.size()\n",
    "print type(hn), hn[0].size(), hn[1].size()\n",
    "torch.cat((hn[0][:,1:,:],hn[1][:,1:,:]),dim=1).size()"
   ]
  },
  {
   "cell_type": "code",
   "execution_count": 11,
   "metadata": {},
   "outputs": [
    {
     "name": "stdout",
     "output_type": "stream",
     "text": [
      "torch.Size([4, 3, 20])\n",
      "tensor([[-0.9177,  0.8113,  0.2569,  1.2606, -0.6390, -0.4724,  0.6521,\n",
      "          1.3955, -0.5262,  0.8308, -1.1170,  1.0073, -0.0636,  0.6234,\n",
      "          0.3700,  1.6156, -1.0099, -0.4924,  1.0646, -0.2410],\n",
      "        [-2.3912, -0.6617,  0.5527,  0.3652,  1.2067, -1.8604, -1.7345,\n",
      "          0.9816, -0.1232,  0.0880,  0.2423,  0.7619,  0.3339, -0.8341,\n",
      "          0.2880,  1.5234,  1.6911, -1.0647, -0.9138, -0.7486],\n",
      "        [ 0.5276, -1.4955,  0.5216,  0.8937,  0.1311, -1.9968, -0.3707,\n",
      "         -1.0174,  0.9638,  1.6404, -0.1292,  0.1416, -2.3453,  0.1384,\n",
      "         -2.0993,  0.1473,  0.0516,  0.7583, -1.1088, -0.8619]])\n",
      "torch.Size([4, 6, 10])\n"
     ]
    }
   ],
   "source": [
    "x=torch.randn(3,20)\n",
    "xx = x.expand((4,3,20))\n",
    "print xx.size()\n",
    "print x\n",
    "xxx = xx.view(4,6,-1)\n",
    "print xxx.size()"
   ]
  },
  {
   "cell_type": "code",
   "execution_count": null,
   "metadata": {},
   "outputs": [],
   "source": []
  }
 ],
 "metadata": {
  "kernelspec": {
   "display_name": "Python 2",
   "language": "python",
   "name": "python2"
  },
  "language_info": {
   "codemirror_mode": {
    "name": "ipython",
    "version": 2
   },
   "file_extension": ".py",
   "mimetype": "text/x-python",
   "name": "python",
   "nbconvert_exporter": "python",
   "pygments_lexer": "ipython2",
   "version": "2.7.12"
  }
 },
 "nbformat": 4,
 "nbformat_minor": 2
}
