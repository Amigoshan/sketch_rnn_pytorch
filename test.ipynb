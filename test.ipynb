{
 "cells": [
  {
   "cell_type": "code",
   "execution_count": 2,
   "metadata": {},
   "outputs": [],
   "source": [
    "from os.path import join\n",
    "from os import listdir\n",
    "import numpy as np\n",
    "datapath = 'data'\n",
    "\n",
    "filecat = 'sketchrnn_cat.npz'\n",
    "\n",
    "with np.load(join(datapath, filecat)) as cat_data:\n",
    "    train_cat, val_cat, test_cat = cat_data['train'], cat_data['valid'], cat_data['test']\n"
   ]
  },
  {
   "cell_type": "code",
   "execution_count": 5,
   "metadata": {},
   "outputs": [
    {
     "data": {
      "text/plain": [
       "(numpy.ndarray, (96, 3), array([[ -34,   -2,    0],\n",
       "        [ -26,   28,    0],\n",
       "        [  -6,   12,    0],\n",
       "        [  -2,   26,    0],\n",
       "        [   2,   14,    0],\n",
       "        [   8,   12,    0],\n",
       "        [  20,    1,    0],\n",
       "        [  24,   -5,    0],\n",
       "        [  16,  -23,    0],\n",
       "        [   4,  -23,    0],\n",
       "        [  -4,  -34,    0],\n",
       "        [  -7,  -11,    0],\n",
       "        [ -11,   -1,    1],\n",
       "        [ -38,   60,    0],\n",
       "        [ -16,   -6,    0],\n",
       "        [ -20,   15,    0],\n",
       "        [  -4,    5,    0],\n",
       "        [   0,    6,    1],\n",
       "        [  42,   -8,    0],\n",
       "        [   2,   -6,    0],\n",
       "        [ -12,   -2,    0],\n",
       "        [ -19,    5,    0],\n",
       "        [  -9,    8,    1],\n",
       "        [  85,  -11,    0],\n",
       "        [  27,  -13,    0],\n",
       "        [   2,    3,    1],\n",
       "        [ -49,   17,    0],\n",
       "        [  19,   -9,    0],\n",
       "        [  36,   -6,    1],\n",
       "        [ -48,   -2,    0],\n",
       "        [  17,  -12,    0],\n",
       "        [  24,   -6,    1],\n",
       "        [ -43,   -1,    0],\n",
       "        [  34,   -3,    1],\n",
       "        [ -56,    0,    0],\n",
       "        [  -6,    2,    0],\n",
       "        [  -2,    5,    0],\n",
       "        [   4,    1,    1],\n",
       "        [   9,  -10,    0],\n",
       "        [  17,    4,    1],\n",
       "        [ -34,  -30,    0],\n",
       "        [  -6,    0,    0],\n",
       "        [  -4,   -6,    0],\n",
       "        [  -2,  -18,    0],\n",
       "        [   2,   -5,    0],\n",
       "        [  11,   -3,    0],\n",
       "        [   7,    0,    0],\n",
       "        [  12,    6,    0],\n",
       "        [   4,   10,    0],\n",
       "        [  -2,   12,    1],\n",
       "        [  28,   -4,    0],\n",
       "        [  27,   -4,    0],\n",
       "        [   3,    6,    0],\n",
       "        [ -16,    8,    0],\n",
       "        [  -4,    5,    0],\n",
       "        [   0,    8,    1],\n",
       "        [ -52,   79,    0],\n",
       "        [  -8,   28,    0],\n",
       "        [   1,   22,    0],\n",
       "        [   7,    8,    1],\n",
       "        [  50, -106,    0],\n",
       "        [  18,   -2,    0],\n",
       "        [  41,   14,    0],\n",
       "        [  35,   18,    0],\n",
       "        [   8,   12,    0],\n",
       "        [   1,   12,    0],\n",
       "        [ -13,   26,    0],\n",
       "        [   0,    6,    1],\n",
       "        [   8,   -8,    0],\n",
       "        [  20,    6,    0],\n",
       "        [  16,   -2,    0],\n",
       "        [  36,  -14,    0],\n",
       "        [  16,  -36,    0],\n",
       "        [   0,  -40,    0],\n",
       "        [  -8,  -14,    0],\n",
       "        [ -32,  -20,    0],\n",
       "        [ -55,  -16,    0],\n",
       "        [ -63,   -9,    0],\n",
       "        [   0,   -8,    0],\n",
       "        [   8,   -9,    0],\n",
       "        [  60,  -38,    0],\n",
       "        [  22,   -6,    0],\n",
       "        [  41,   -3,    0],\n",
       "        [  15,   63,    0],\n",
       "        [   0,   46,    0],\n",
       "        [   8,   36,    1],\n",
       "        [-192,  110,    0],\n",
       "        [  10,    4,    0],\n",
       "        [  24,    2,    0],\n",
       "        [  28,   -2,    0],\n",
       "        [  38,  -30,    0],\n",
       "        [   2,   -6,    1]], dtype=int16))"
      ]
     },
     "execution_count": 5,
     "metadata": {},
     "output_type": "execute_result"
    }
   ],
   "source": [
    "#train_cat.shape, test_cat.shape, val_cat.shape\n",
    "type(train_cat[0]),train_cat[0].shape, train_cat[10]\n",
    "\n",
    "# from utils import strokes_to_lines\n",
    "# cat0 = strokes_to_lines(train_cat[1])\n",
    "# print len(cat0), len(cat0[0]), len(cat0[0][0]),cat0[0]"
   ]
  },
  {
   "cell_type": "code",
   "execution_count": 23,
   "metadata": {},
   "outputs": [],
   "source": [
    "from utils import strokes_to_lines\n",
    "lineLenList=[]\n",
    "sketchLenList=[]\n",
    "line2sketch=[]\n",
    "for sketchInd,sketch in enumerate(train_cat):\n",
    "    sketchLenList.append(len(sketch))\n",
    "    lines = strokes_to_lines(sketch)\n",
    "    for line in lines:\n",
    "        lineLenList.append(len(line))\n",
    "        line2sketch.append(sketchInd)"
   ]
  },
  {
   "cell_type": "code",
   "execution_count": 53,
   "metadata": {},
   "outputs": [
    {
     "name": "stdout",
     "output_type": "stream",
     "text": [
      "70000 686098\n",
      "129 37 69.4146714286 21.4514189782\n",
      "128 1 7.08211800647 7.34870905979 1416\n",
      "(array([497681,  98208,  44673,  24150,  12249,   5298,   1687,    807,\n",
      "          501,    301,    188,    164,     83,     52,     27,     14,\n",
      "            7,      2,      4,      2]), array([   1.  ,    7.35,   13.7 ,   20.05,   26.4 ,   32.75,   39.1 ,\n",
      "         45.45,   51.8 ,   58.15,   64.5 ,   70.85,   77.2 ,   83.55,\n",
      "         89.9 ,   96.25,  102.6 ,  108.95,  115.3 ,  121.65,  128.  ]))\n"
     ]
    },
    {
     "data": {
      "image/png": "[encoded data removed]",
      "text/plain": [
       "<matplotlib.figure.Figure at 0x7f0c67f3e390>"
      ]
     },
     "metadata": {},
     "output_type": "display_data"
    }
   ],
   "source": [
    "import matplotlib.pyplot as plt\n",
    "print len(sketchLenList), len(lineLenList)\n",
    "print np.max(sketchLenList), np.min(sketchLenList), np.mean(sketchLenList), np.std(sketchLenList)\n",
    "print np.max(lineLenList), np.min(lineLenList), np.mean(lineLenList), np.std(lineLenList), np.sum(np.array(lineLenList)>50)\n",
    "hist = np.histogram(np.array(lineLenList), bins=20)\n",
    "print hist\n",
    "p=plt.hist(np.array(lineLenList), bins='auto',histtype='step', range=(0,60))"
   ]
  },
  {
   "cell_type": "code",
   "execution_count": 26,
   "metadata": {
    "scrolled": false
   },
   "outputs": [
    {
     "name": "stdout",
     "output_type": "stream",
     "text": [
      "642 129\n",
      "608380\n"
     ]
    },
    {
     "data": {
      "image/png": "[encoded data removed]",
      "text/plain": [
       "<matplotlib.figure.Figure at 0x7f0c67f61990>"
      ]
     },
     "metadata": {},
     "output_type": "display_data"
    },
    {
     "data": {
      "image/png": "[encoded data removed]",
      "text/plain": [
       "<matplotlib.figure.Figure at 0x7f0c67f44090>"
      ]
     },
     "metadata": {},
     "output_type": "display_data"
    },
    {
     "name": "stdout",
     "output_type": "stream",
     "text": [
      "[[ -26  -36    0]\n",
      " [ -20  -15    0]\n",
      " [ -12   -5    0]\n",
      " [ -24   -4    0]\n",
      " [ -20    1    0]\n",
      " [ -20   18    0]\n",
      " [ -12   37    0]\n",
      " [  -1   29    0]\n",
      " [  14   61    0]\n",
      " [   1   46    0]\n",
      " [ -26   86    0]\n",
      " [   2   20    0]\n",
      " [   5    9    0]\n",
      " [   8    5    0]\n",
      " [  27    1    0]\n",
      " [  15  -12    0]\n",
      " [   7  -15    0]\n",
      " [   0  -18    0]\n",
      " [ -14  -31    0]\n",
      " [   1 -114    0]\n",
      " [   7  -27    0]\n",
      " [   8  -15    0]\n",
      " [   9  -12    0]\n",
      " [  26  -16    0]\n",
      " [  14    1    0]\n",
      " [  13   10    0]\n",
      " [   7   23    0]\n",
      " [   0   36    0]\n",
      " [ -21  100    0]\n",
      " [  -1   27    0]\n",
      " [   5    6    0]\n",
      " [   8    3    0]\n",
      " [  16   -1    0]\n",
      " [  10  -12    0]\n",
      " [   2  -13    0]\n",
      " [  -8  -11    0]\n",
      " [ -13   -2    0]\n",
      " [  -5    3    0]\n",
      " [   9   -7    0]\n",
      " [  13  -36    0]\n",
      " [   2  -35    0]\n",
      " [  -5  -12    0]\n",
      " [  22  -16    0]\n",
      " [   3    5    0]\n",
      " [  -1  129    0]\n",
      " [   2   11    0]\n",
      " [   8    8    0]\n",
      " [  20    1    0]\n",
      " [   7   -3    0]\n",
      " [  10   -9    0]\n",
      " [   7  -19    0]\n",
      " [   0  -10    0]\n",
      " [  -7   -5    0]\n",
      " [  -6    0    0]\n",
      " [  -4    5    0]\n",
      " [   4  -10    0]\n",
      " [   1  -28    0]\n",
      " [ -15  -49    0]\n",
      " [   5   -5    0]\n",
      " [  67  -15    0]\n",
      " [  77   -2    0]\n",
      " [  -3   22    0]\n",
      " [ -26   72    0]\n",
      " [  -3   36    0]\n",
      " [   6    6    0]\n",
      " [  10    4    0]\n",
      " [  21    1    0]\n",
      " [  12  -10    0]\n",
      " [   3  -24    0]\n",
      " [ -13   -3    0]\n",
      " [  -4    7    0]\n",
      " [   8   -5    0]\n",
      " [   6  -16    0]\n",
      " [   1  -51    0]\n",
      " [  43  -14    0]\n",
      " [   6   56    0]\n",
      " [   0   37    0]\n",
      " [  18   11    0]\n",
      " [  19    0    0]\n",
      " [  11   -7    0]\n",
      " [  10  -12    0]\n",
      " [   3  -27    0]\n",
      " [  -1   -6    0]\n",
      " [ -12   -6    0]\n",
      " [  -2   -8    0]\n",
      " [   1  -38    0]\n",
      " [  -8  -18    0]\n",
      " [ -42  -56    0]\n",
      " [  -7  -21    0]\n",
      " [   0  -15    0]\n",
      " [   1   -5    0]\n",
      " [  13  -13    0]\n",
      " [  62  -41    0]\n",
      " [  37  -43    0]\n",
      " [  18  -27    0]\n",
      " [   5  -25    0]\n",
      " [   0  -21    0]\n",
      " [ -10  -23    0]\n",
      " [ -25  -35    0]\n",
      " [  -6  -51    0]\n",
      " [  -4  -12    0]\n",
      " [  -5   -3    0]\n",
      " [  -7    3    0]\n",
      " [ -19   22    0]\n",
      " [ -27   41    0]\n",
      " [  -4   15    0]\n",
      " [  -4  -13    0]\n",
      " [  -7   -6    0]\n",
      " [ -16   -3    0]\n",
      " [ -10   15    0]\n",
      " [  -3   23    0]\n",
      " [  -5    0    0]\n",
      " [ -49  -28    0]\n",
      " [ -27   -5    0]\n",
      " [  14   21    0]\n",
      " [  45   32    0]\n",
      " [  31   35    0]\n",
      " [   4   12    0]\n",
      " [   0   18    0]\n",
      " [  -6   17    0]\n",
      " [  -9   12    0]\n",
      " [ -14    8    0]\n",
      " [ -61   12    0]\n",
      " [ -81   23    0]\n",
      " [ -24   13    0]\n",
      " [ -66   47    0]\n",
      " [  -3   14    0]\n",
      " [   9    4    1]]\n"
     ]
    }
   ],
   "source": [
    "from utils import drawFig\n",
    "\n",
    "maxsketchInd = np.argmax(sketchLenList)\n",
    "print maxsketchInd, sketchLenList[maxsketchInd]\n",
    "maxlenInd = np.argmax(lineLenList)\n",
    "print maxlenInd\n",
    "\n",
    "sample = train_cat[maxsketchInd]\n",
    "drawFig(sample)\n",
    "# print sample\n",
    "\n",
    "lineSketch = train_cat[line2sketch[maxlenInd]]\n",
    "drawFig(lineSketch)\n",
    "print lineSketch"
   ]
  },
  {
   "cell_type": "code",
   "execution_count": 120,
   "metadata": {},
   "outputs": [
    {
     "name": "stdout",
     "output_type": "stream",
     "text": [
      "[[ 0.          0.          0.        ]\n",
      " [-0.06949243  0.32429799  0.        ]\n",
      " [ 0.27796972 -0.16214901  0.        ]\n",
      " [-0.162149    0.57910359  0.        ]\n",
      " [ 0.25480556 -0.0694924   0.        ]\n",
      " [ 0.16214901 -0.60226774  0.        ]\n",
      " [ 0.25480556  0.06949243  0.        ]\n",
      " [ 0.41695461 -0.18531314  0.        ]\n",
      " [-0.50961119 -0.09265658  0.        ]\n",
      " [ 0.20847729 -0.18531314  0.        ]\n",
      " [-0.04632828 -0.2084773   0.        ]\n",
      " [-0.34746215 -0.23164141  0.        ]\n",
      " [-0.25480556  0.23164141  0.        ]\n",
      " [ 0.          0.13898486  0.        ]\n",
      " [-0.39379042 -0.16214898  0.        ]\n",
      " [ 0.41695458  0.41695458  1.        ]\n",
      " [-1.38984859  1.73731077  0.        ]\n",
      " [ 0.83390909 -2.432235    0.        ]\n",
      " [ 0.32429802  0.16214901  0.        ]\n",
      " [ 0.25480556  0.18531317  0.        ]\n",
      " [ 2.01528049  0.97289401  1.        ]\n",
      " [-1.62149    -0.90340161  0.        ]\n",
      " [ 0.32429802 -0.27796975  0.        ]\n",
      " [-0.20847729 -0.39379042  0.        ]\n",
      " [-0.09265658  0.83390915  0.        ]\n",
      " [ 0.          0.11582071  0.        ]\n",
      " [-0.13898486  0.13898486  0.        ]\n",
      " [-0.04632828  0.23164141  0.        ]\n",
      " [-0.16214901  1.11187887  1.        ]\n",
      " [-1.36668444 -0.76441675  0.        ]\n",
      " [ 1.55199766 -0.74125254  0.        ]\n",
      " [-0.20847729  0.18531314  0.        ]\n",
      " [ 0.02316415 -0.13898486  1.        ]\n",
      " [ 0.76441669 -0.27796972  0.        ]\n",
      " [-0.83390915  0.39379045  0.        ]\n",
      " [ 0.25480556 -0.18531315  1.        ]\n",
      " [-0.23164143  0.99605817  0.        ]\n",
      " [ 0.04632828 -0.85707331  1.        ]\n",
      " [ 0.09265658 -0.18531315  0.        ]\n",
      " [-0.162149    0.06949243  0.        ]\n",
      " [-0.25480556  0.06949243  0.        ]\n",
      " [ 0.06949243  0.09265658  1.        ]\n",
      " [ 1.22769964 -0.13898486  0.        ]\n",
      " [-0.6254319  -0.3706263   0.        ]\n",
      " [-0.09265657  0.3706263   1.        ]\n",
      " [-0.41695458  0.57910359  0.        ]\n",
      " [ 0.60226774 -0.39379042  1.        ]]\n"
     ]
    }
   ],
   "source": [
    "sampleacc = np.copy(sample)\n",
    "sampleacc [0,:] = [0,0,0]\n",
    "sampleacc[1:,0:2] = sample[1:,0:2] - sample[0:-1,0:2]\n",
    "# sampleacc[:,2] = sample[:,2]\n",
    "print sampleacc"
   ]
  },
  {
   "cell_type": "code",
   "execution_count": 1,
   "metadata": {},
   "outputs": [],
   "source": [
    "import torch \n",
    "import torch.nn as nn\n",
    "\n",
    "rnn = nn.LSTM(10,20,2) # input, hidden, layers\n",
    "input = torch.randn(5, 3, 10) # seq, batch, input\n",
    "h0 = torch.randn(2, 3, 20) # layers, batch, hidden\n",
    "c0 = torch.randn(2, 3, 20) \n",
    "output, hn = rnn(input, (h0, c0))"
   ]
  },
  {
   "cell_type": "code",
   "execution_count": 2,
   "metadata": {},
   "outputs": [
    {
     "name": "stdout",
     "output_type": "stream",
     "text": [
      "torch.Size([5, 3, 20])\n",
      "<type 'tuple'> torch.Size([2, 3, 20]) torch.Size([2, 3, 20])\n"
     ]
    },
    {
     "data": {
      "text/plain": [
       "torch.Size([2, 4, 20])"
      ]
     },
     "execution_count": 2,
     "metadata": {},
     "output_type": "execute_result"
    }
   ],
   "source": [
    "print output.size()\n",
    "print type(hn), hn[0].size(), hn[1].size()\n",
    "torch.cat((hn[0][:,1:,:],hn[1][:,1:,:]),dim=1).size()"
   ]
  },
  {
   "cell_type": "code",
   "execution_count": 11,
   "metadata": {},
   "outputs": [
    {
     "name": "stdout",
     "output_type": "stream",
     "text": [
      "torch.Size([4, 3, 20])\n",
      "tensor([[-0.9177,  0.8113,  0.2569,  1.2606, -0.6390, -0.4724,  0.6521,\n",
      "          1.3955, -0.5262,  0.8308, -1.1170,  1.0073, -0.0636,  0.6234,\n",
      "          0.3700,  1.6156, -1.0099, -0.4924,  1.0646, -0.2410],\n",
      "        [-2.3912, -0.6617,  0.5527,  0.3652,  1.2067, -1.8604, -1.7345,\n",
      "          0.9816, -0.1232,  0.0880,  0.2423,  0.7619,  0.3339, -0.8341,\n",
      "          0.2880,  1.5234,  1.6911, -1.0647, -0.9138, -0.7486],\n",
      "        [ 0.5276, -1.4955,  0.5216,  0.8937,  0.1311, -1.9968, -0.3707,\n",
      "         -1.0174,  0.9638,  1.6404, -0.1292,  0.1416, -2.3453,  0.1384,\n",
      "         -2.0993,  0.1473,  0.0516,  0.7583, -1.1088, -0.8619]])\n",
      "torch.Size([4, 6, 10])\n"
     ]
    }
   ],
   "source": [
    "x=torch.randn(3,20)\n",
    "xx = x.expand((4,3,20))\n",
    "print xx.size()\n",
    "print x\n",
    "xxx = xx.view(4,6,-1)\n",
    "print xxx.size()"
   ]
  },
  {
   "cell_type": "code",
   "execution_count": 3,
   "metadata": {},
   "outputs": [],
   "source": [
    "import visdom\n",
    "import numpy as np\n",
    "vis = visdom.Visdom(env='test', server='http://localhost', port=8097)\n",
    "loss_win = vis.line(X=np.array([[-1, -1]]), Y=np.array([[0, 0]]),\n",
    "                         opts=dict(xlabel='steps', ylabel='loss', title='train acc'))"
   ]
  },
  {
   "cell_type": "code",
   "execution_count": 19,
   "metadata": {},
   "outputs": [
    {
     "name": "stdout",
     "output_type": "stream",
     "text": [
      "('Output size:', torch.Size([5, 3, 8]), '- Hidden size:', [torch.Size([2, 3, 4]), torch.Size([2, 3, 4])])\n",
      "Variable containing:\n",
      "(0 ,.,.) = \n",
      "  0.0760  0.1711  0.3012  0.0501  0.1726  0.2089  0.7477 -0.5038\n",
      "  0.0760  0.1711  0.3012  0.0501  0.1726  0.2089  0.7477 -0.5038\n",
      "  0.0760  0.1711  0.3012  0.0501  0.1726  0.2089  0.7477 -0.5038\n",
      "\n",
      "(1 ,.,.) = \n",
      "  0.1326  0.2711  0.4182  0.0710  0.1684  0.2068  0.7187 -0.5028\n",
      "  0.1326  0.2711  0.4182  0.0710  0.1684  0.2068  0.7187 -0.5028\n",
      "  0.1326  0.2711  0.4182  0.0710  0.1684  0.2068  0.7187 -0.5028\n",
      "\n",
      "(2 ,.,.) = \n",
      "  0.1706  0.3297  0.4673  0.0841  0.1583  0.2021  0.6655 -0.4967\n",
      "  0.1706  0.3297  0.4673  0.0841  0.1583  0.2021  0.6655 -0.4967\n",
      "  0.1706  0.3297  0.4673  0.0841  0.1583  0.2021  0.6655 -0.4967\n",
      "\n",
      "(3 ,.,.) = \n",
      "  0.1947  0.3656  0.4909  0.0934  0.1337  0.1884  0.5633 -0.4721\n",
      "  0.1947  0.3656  0.4909  0.0934  0.1337  0.1884  0.5633 -0.4721\n",
      "  0.1947  0.3656  0.4909  0.0934  0.1337  0.1884  0.5633 -0.4721\n",
      "\n",
      "(4 ,.,.) = \n",
      "  0.2098  0.3885  0.5034  0.1001  0.0796  0.1415  0.3631 -0.3782\n",
      "  0.2098  0.3885  0.5034  0.1001  0.0796  0.1415  0.3631 -0.3782\n",
      "  0.2098  0.3885  0.5034  0.1001  0.0796  0.1415  0.3631 -0.3782\n",
      "[torch.FloatTensor of size 5x3x8]\n",
      "\n",
      "(Variable containing:\n",
      "(0 ,.,.) = \n",
      "  0.2098  0.3885  0.5034  0.1001\n",
      "  0.2098  0.3885  0.5034  0.1001\n",
      "  0.2098  0.3885  0.5034  0.1001\n",
      "\n",
      "(1 ,.,.) = \n",
      "  0.1726  0.2089  0.7477 -0.5038\n",
      "  0.1726  0.2089  0.7477 -0.5038\n",
      "  0.1726  0.2089  0.7477 -0.5038\n",
      "[torch.FloatTensor of size 2x3x4]\n",
      ", Variable containing:\n",
      "(0 ,.,.) = \n",
      "  1.3622  0.7343  1.0713  0.7885\n",
      "  1.3622  0.7343  1.0713  0.7885\n",
      "  1.3622  0.7343  1.0713  0.7885\n",
      "\n",
      "(1 ,.,.) = \n",
      "  0.2838  0.6766  1.2638 -0.6352\n",
      "  0.2838  0.6766  1.2638 -0.6352\n",
      "  0.2838  0.6766  1.2638 -0.6352\n",
      "[torch.FloatTensor of size 2x3x4]\n",
      ")\n",
      "torch.Size([16, 10])\n",
      "torch.Size([16, 4])\n",
      "torch.Size([16])\n",
      "torch.Size([16])\n",
      "torch.Size([16, 10])\n",
      "torch.Size([16, 4])\n",
      "torch.Size([16])\n",
      "torch.Size([16])\n"
     ]
    }
   ],
   "source": [
    "import torch\n",
    "import torch.nn as nn\n",
    "from torch.autograd import Variable\n",
    "hidden_size = 4\n",
    "bidir = 2 \n",
    "batch = 3\n",
    "lstm = nn.LSTM(10, hidden_size, num_layers=1, batch_first=False, bidirectional=True)\n",
    "hidden_vect_1 = (\n",
    "    Variable(torch.zeros(bidir, batch, hidden_size)),\n",
    "    Variable(torch.zeros(bidir, batch, hidden_size)))\n",
    "output, hidden = lstm(Variable(torch.ones(5, batch, 10)), hidden_vect_1)\n",
    "print('Output size:', output.size(), '- Hidden size:', [h.size() for h in hidden])\n",
    "print output\n",
    "print hidden\n",
    "for param in lstm.parameters():\n",
    "    print param.size()"
   ]
  }
 ],
 "metadata": {
  "kernelspec": {
   "display_name": "Python 2",
   "language": "python",
   "name": "python2"
  },
  "language_info": {
   "codemirror_mode": {
    "name": "ipython",
    "version": 2
   },
   "file_extension": ".py",
   "mimetype": "text/x-python",
   "name": "python",
   "nbconvert_exporter": "python",
   "pygments_lexer": "ipython2",
   "version": "2.7.12"
  }
 },
 "nbformat": 4,
 "nbformat_minor": 2
}
